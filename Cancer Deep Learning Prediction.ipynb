{
  "nbformat": 4,
  "nbformat_minor": 0,
  "metadata": {
    "colab": {
      "name": "Cancer Deep Learning Prediction.ipynb",
      "provenance": [],
      "collapsed_sections": [
        "PR3b60pVDSrh"
      ]
    },
    "kernelspec": {
      "name": "python3",
      "display_name": "Python 3"
    },
    "language_info": {
      "name": "python"
    },
    "accelerator": "GPU"
  },
  "cells": [
    {
      "cell_type": "markdown",
      "metadata": {
        "id": "SS53929yF5E-"
      },
      "source": [
        "# Cancer Types Prediction Using Recurrent Type Networks\n",
        "\n",
        "Large-scale cancer genomics data often comes in multiplatform and heterogeneous forms. These datasets impose great challenges in terms of the bioinformatics approach and computational algorithms. Numerous researchers have proposed to utilize this data to overcome several challenges, using classical machine learning algorithms as either the primary subject or a supporting element for cancer diagnosis and prognosis.\n",
        "\n"
      ]
    },
    {
      "cell_type": "markdown",
      "metadata": {
        "id": "i-1V8MYWZfil"
      },
      "source": [
        "## Deep learning in cancer genomics\n",
        "Biomedical informatics includes all techniques regarding the development of data analytics, mathematical modeling, and computational simulation for the study of biological systems. In recent years, we've witnessed huge leaps in biological computing that has resulted in large, information-rich resources being at our disposal. These cover domains such as anatomy, modeling (3D printers), genomics, and pharmacology, among others.\n",
        "\n",
        "One of the most famous success stories of biomedical informatics is from the domain of genomics. The **Human Genome Project (HGP)** was an international research project with the objective of determining the full sequence of human DNA. This project has been one of the most important landmarks in computational biology and has been used as a base for other projects, including the Human Brain Project, which is determined to sequence the human brain. The data that was used in this thesis is also the indirect result of the HGP. \n",
        "\n",
        "The era of big data starts from the last decade or so, which was marked by an overflow of digital information in comparison to its analog counterpart. Just in the year 2016, 16.1 zettabytes of digital data were generated, and it is predicted to reach 163 ZB/year by 2025. As good a piece of news as this is, there are some problems lingering, especially of data storage and analysis. For the latter, simple machine learning methods that were used in normal-size data analysis won't be effective anymore and should be substituted by deep neural network learning methods. Deep learning is generally known to deal very well with these types of large and complex datasets.\n",
        "\n",
        "Along with other crucial areas, the biomedical area has also been exposed to these big data phenomena. One of the main largest data sources is omics data such as genomics, metabolomics, and proteomics. Innovations in biomedical techniques and equipment, such as DNA sequencing and mass spectrometry, have led to a massive accumulation of -omics data.\n",
        "\n",
        "Typically -omics data is full of veracity, variability and high dimensionality. These datasets are sourced from multiple, and even sometimes incompatible, data platforms. These properties make these types of data suitable for applying DL approaches. Deep learning analysis of -omics data is one of the main tasks in the biomedical sector as it has a chance to be the leader in personalized medicine. By acquiring information about a person's omics data, diseases can be dealt with better and treatment can be focused on preventive measures.\n",
        "\n",
        "Cancer is generally known to be one of the deadliest diseases in the world, which is mostly due to its complexity of diagnosis and treatment. It is a genetic disease that involves multiple gene mutations. As the importance of genetic knowledge in cancer treatment is increasingly addressed, several projects to document the genetic data of cancer patients has emerged recently. One of the most well known is The **Cancer Genome Atlas (TCGA)** project, which is available on the TCGA research network: http://cancergenome.nih.gov/.\n",
        "\n",
        "As mentioned before, there have been a number of deep learning implementations in the biomedical sector, including cancer research. For cancer research, most researchers usually use -omics or medical imaging data as inputs. Several research works have focused on cancer analysis. Some of them use either a histopathology image or a PET image as a source. Most of that research focuses on classification based on that image data with **convolutional neural networks (CNNs)**.\n",
        "\n",
        "However, many of them use -omics data as their source. Fakoor et al<sup>1</sup> classified the various types of cancer using patients' gene expression data. Due to the different dimensionality of each data from each cancer type, they used **principal component analysis (PCA)<sup>2</sup>** first to reduce the dimensionality of microarray gene expression data.\n",
        "\n",
        "Then they applied sparse and stacked autoencoders to classify various cancers, including acute myeloid leukemia, breast cancer, and ovarian cancer.\n",
        "\n",
        "Ibrahim et al<sup>3</sup>, on the other hand, used miRNA expression data from six types of cancer genes/miRNA feature selection. They proposed a novel multilevel feature selection approach named **MLFS** (short for **Multilevel gene/miRNA feature selection**), which was based on **Deep Belief Networks (DBN)** and unsupervised active learning.\n",
        "\n",
        "Finally, Liang et al<sup>4</sup> clustered ovarian and breast cancer patients using multiplatform genomics and clinical data. The ovarian cancer dataset contained gene expression, DNA methylation, and miRNA expression data across 385 patients, which were downloaded from **The Cancer Genome Atlas (TCGA)**.\n",
        "\n",
        "The breast cancer dataset included GE data and corresponding clinical information, such as survival time and time to recurrence data, which was collected by the Netherlands Cancer Institute. To deal with this multiplatform data, they used **multimodal Deep Belief Networks (mDBN)**.\n",
        "\n",
        "First, they implemented a DBN for each of those data to get their latent features. Then, another DBN used to perform the clustering is implemented using those latent features as the input. Apart from these researchers, much research work is going on to give cancer genomics, identification, and treatment a significant boost."
      ]
    },
    {
      "cell_type": "markdown",
      "metadata": {
        "id": "0C_3kXCfZ1OY"
      },
      "source": [
        "## Cancer genomics dataset description\n",
        "Genomics data covers all data related to DNA on living things. Although in this thesis we will also use other types of data like transcriptomic data (RNA and miRNA), for convenience purposes, all data will be termed as genomics data. Research on human genetics found a huge breakthrough in recent years due to the success of the HGP (1984-2000) on sequencing the full sequence of human DNA.\n",
        "\n",
        "One of the areas that have been helped a lot due to this is the research of all diseases related to genetics, including cancer. Due to various biomedical analyses done on DNA, there exist various types of -omics or genomics data. Here are some types of -omics data that were crucial to cancer analysis:\n",
        "\n",
        "- **Raw sequencing data**: This corresponds to the DNA coding of whole\n",
        "chromosomes. In general, every human has 24 types of chromosomes in each cell\n",
        "of their body, and each chromosome consists of 4.6-247 million base pairs. Each\n",
        "base pair can be coded in four different types, which are **adenine (A)**, **cytosine (C)**, **guanine (G)**, and **thymine (T)**. Therefore, raw sequencing data consists of\n",
        "billions of base pair data, with each coded in one of these four different types.\n",
        "- **Single-Nucleotide Polymorphism (SNP) data**: Each human has a different raw\n",
        "sequence, which causes genetic mutation. Genetic mutation can cause an actual\n",
        "disease, or just a difference in physical appearance (such as hair color), or\n",
        "nothing at all. When this mutation happens only on a single base pair instead of a sequence of base pairs, it is called **Single-Nucleotide Polymorphism (SNP)**.\n",
        "- **Copy Number Variation (CNV) data**: This corresponds to a genetic mutation\n",
        "that happens in a sequence of base pairs. Several types of mutation can happen,\n",
        "including deletion of a sequence of base pairs, multiplication of a sequence of\n",
        "base pairs, and relocation of a sequence of base pairs into other parts of the\n",
        "chromosome.\n",
        "- **DNA methylation data**: Which corresponds to the amount of methylation\n",
        "(methyl group connected to base pair) that happens to areas in the chromosome.\n",
        "A large amount of methylation in promoter regions of a gene can cause gene\n",
        "repression. DNA methylation is the reason each of our organs acts differently\n",
        "even though all of them have the same DNA sequence. In cancer, this DNA\n",
        "methylation is disrupted.\n",
        "- **Gene expression data**: This corresponds to the number of proteins that were\n",
        "expressed from a gene at a given time. Cancer happens either because of high\n",
        "expression of an oncogene (that is, a gene that causes a tumor), low expression of a tumor suppressor gene (a gene that prevents a tumor), or both. Therefore, the analysis of gene expression data can help discover protein biomarkers in cancer.\n",
        "- **miRNA expression data**: Corresponds to the amount of microRNA that was\n",
        "expressed at a given time. miRNA plays a role in protein silencing at the mRNA\n",
        "stage. Therefore, an analysis of gene expression data can help discover miRNA\n",
        "biomarkers in cancer.\n",
        "\n",
        "There are several databases of genomics datasets, where the aforementioned data can be found. Some of them focus on the genomics data of cancer patients. These databases include:\n",
        "- [**The Cancer Genome Atlas (TCGA)**](https://cancergenome.nih.gov/)\n",
        "- [**International Cancer Genome Consortium (ICGC)**](https://icgc.org/)\n",
        "- [**Catalog of Somatic Mutations in Cancer (COSMIC)**](https://cancer.sanger.ac.uk/cosmic)\n",
        "\n",
        "This genomics data is usually accompanied by clinical data of the patient. This clinical data can comprise general clinical information (for example, age or gender) and their cancer status (for example, cancer location or cancer stage). All of this genomics data itself has a characteristic of high dimensions. For example, the gene expression data for each patient is structured based on the gene ID, which reaches around 60,000 types.\n",
        "\n",
        "Moreover, some of the data itself comes from more than one format. For example, 70% of the DNA methylation data is collected from breast cancer patients and the remaining 30% are curated from different platforms. Therefore, there are two different structures on in this dataset. Therefore, to analyze genomics data by dealing with the heterogeneity, researchers have often used powerful machine learning techniques or even deep neural networks.\n",
        "\n",
        "---------\n",
        "<sup>1</sup> _Using deep learning to enhance cancer diagnosis and classification_ by R. Fakoor et al. in proceedings of the International Conference on Machine Learning, 2013.\n",
        "\n",
        "<sup>2</sup> PCA is a statistical technique used to emphasize variation and extract the most significant patterns from a dataset; principal components are the simplest of the true eigenvector-based multivariate analyses. PCA is frequently used for making data exploration easy to visualize. Consequently, PCA is one of the most used algorithms in exploratory data analysis and for making predictive models.\n",
        "\n",
        "<sup>3</sup> _Multilevel gene/miRNA feature selection using deep belief nets and active learning_ (R. Ibrahim, et al.) in Proceedings 36th annual International Conference Eng. Med. Biol. Soc. (EMBC), pp. 3957-3960, IEEE, 2014.\n",
        "\n",
        "<sup>4</sup> _Integrative data analysis of multi-platform cancer data with a multimodal deep learning approach_ (by M. Liang et al.) in Molecular Pharmaceutics, vol. 12, pp. 928{937, IEEE/ACM Transaction Computational Biology and Bioinformatics, 2015."
      ]
    },
    {
      "cell_type": "markdown",
      "metadata": {
        "id": "PR3b60pVDSrh"
      },
      "source": [
        "## Setup"
      ]
    },
    {
      "cell_type": "code",
      "metadata": {
        "colab": {
          "base_uri": "https://localhost:8080/"
        },
        "id": "-g_PD66aPSjq",
        "outputId": "cb573de6-ba8b-4443-d434-b08ac20d791e"
      },
      "source": [
        "#hide\n",
        "!pip install -Uqq fastbook\n",
        "import fastbook\n",
        "fastbook.setup_book()"
      ],
      "execution_count": 1,
      "outputs": [
        {
          "output_type": "stream",
          "text": [
            "\u001b[K     |████████████████████████████████| 727kB 7.3MB/s \n",
            "\u001b[K     |████████████████████████████████| 51kB 8.0MB/s \n",
            "\u001b[K     |████████████████████████████████| 1.2MB 14.1MB/s \n",
            "\u001b[K     |████████████████████████████████| 204kB 37.0MB/s \n",
            "\u001b[K     |████████████████████████████████| 61kB 9.4MB/s \n",
            "\u001b[K     |████████████████████████████████| 61kB 9.2MB/s \n",
            "\u001b[?25hMounted at /content/gdrive\n"
          ],
          "name": "stdout"
        }
      ]
    },
    {
      "cell_type": "code",
      "metadata": {
        "id": "WBM2Uyz6Fhn8"
      },
      "source": [
        "#collapse-hide\n",
        "\n",
        "# imports pytorch\n",
        "import torch\n",
        "import torch.nn as nn\n",
        "import torch.optim as optim\n",
        "from torch.autograd import Variable\n",
        "import torch.nn.functional as F\n",
        "\n",
        "import pandas as pd\n",
        "import numpy as np\n",
        "import matplotlib.pyplot as plt\n",
        "import altair as alt\n",
        "\n",
        "def plot(df, xaxis=\"\", yaxis=\"\", tooltip=\"Title:N\"):\n",
        "  alt.Chart(df).mark_circle().encode(\n",
        "    x=xaxis,\n",
        "    y=yaxis,\n",
        "    tooltip=tooltip,\n",
        "    opacity=alt.condition(selection, alt.value(0.75), alt.value(0.05))\n",
        "  )"
      ],
      "execution_count": null,
      "outputs": []
    },
    {
      "cell_type": "markdown",
      "metadata": {
        "id": "NbtceGDmN6_g"
      },
      "source": [
        "## Dataset Details\n",
        "\n",
        "I will be using [the gene expression cancer RNA-Seq dataset downloaded from the UCI machine learning repository](https://archive.ics.uci.edu/ml/datasets/gene+expression+cancer+RNA-Seq).\n",
        "\n",
        "This dataset is a random subset of another dataset reported in the following paper: Weinstein, John N., et al. _The cancer genome atlas pan-cancer analysis project. Nature Genetics 45.10 (2013): 1113-1120_. The preceding diagram shows the data collection pipeline for the pan-cancer analysis project.\n",
        "\n",
        "The name of the project is The Pan-Cancer analysis project. It assembled data from thousands of patients with primary tumors occurring in different sites of the body. It covered 12 tumor types (see the upper-left panel in the preceding figure) including:\n",
        "- Glioblastoma Multiform (GBM)\n",
        "- Lymphoblastic acute myeloid leukemia (AML)\n",
        "- Head and Neck Squamous Carcinoma (HNSC)\n",
        "- Lung Adenocarcinoma (LUAD)\n",
        "- Lung Squamous Carcinoma (LUSC)\n",
        "- Breast Carcinoma (BRCA)\n",
        "- Kidney Renal Clear Cell Carcinoma (KIRC)\n",
        "- Ovarian Carcinoma (OV)\n",
        "- Bladder Carcinoma (BLCA)\n",
        "- Colon Adenocarcinoma (COAD)\n",
        "- Uterine Cervical and Endometrial Carcinoma (UCEC)\n",
        "- Rectal Adenocarcinoma (READ)\n",
        "\n",
        "This collection of data is part of the RNA-Seq (HiSeq) PANCAN dataset. It is a random extraction of gene expressions of patients having different types of tumors: BRCA, KIRC, COAD, LUAD, and PRAD.\n",
        "\n",
        "This dataset is a random collection of cancer patients from 801 patients, each having 20,531 attributes. Samples (instances) are stored row-wise. Variables (attributes) of each sampl are RNA-Seq gene expression levels measured by the illumina HiSeq platform. A dummy name (`gene_XX`) is given to each attribute. The attributes are ordered consistently with the original submission. For example, `gene_1` on `sample_0` is significantly and differentially expressed with a a value of `2.01720929003`.\n",
        "\n",
        "Dataset Files:\n",
        "- `data.csv`: Contains the gene expression data of each sample\n",
        "- `labels.csv`: The labels associated with each sample\n",
        "\n"
      ]
    },
    {
      "cell_type": "code",
      "metadata": {
        "id": "MieRuspuFjtk"
      },
      "source": [
        "columns = [f\"gene_{i}\" for i in range(20531)]\n",
        "data = pd.read_csv(\"data.csv\", columns=[\"sample\"]+columns)[columns]\n",
        "data"
      ],
      "execution_count": null,
      "outputs": []
    },
    {
      "cell_type": "code",
      "metadata": {
        "id": "MfsTW-knT14X"
      },
      "source": [
        "label = pd.read_csv(\"labels.csv\", columns=[\"sample\", \"label\"]).label\n",
        "label"
      ],
      "execution_count": null,
      "outputs": []
    },
    {
      "cell_type": "code",
      "metadata": {
        "id": "-AZm0wgxNwrc"
      },
      "source": [
        "df = pd.concat([columns, label], axis=1)\n",
        "df"
      ],
      "execution_count": null,
      "outputs": []
    },
    {
      "cell_type": "markdown",
      "metadata": {
        "id": "roQ0_Q78J3SU"
      },
      "source": [
        "### Constants"
      ]
    },
    {
      "cell_type": "code",
      "metadata": {
        "id": "kmqBQCD7NoH6"
      },
      "source": [
        "labelIndex = 20531  # number of features\n",
        "numClasses = 5  # number of classes to be predicted\n",
        "batchSize = 128  # batch size"
      ],
      "execution_count": null,
      "outputs": []
    },
    {
      "cell_type": "markdown",
      "metadata": {
        "id": "BhV9haFmO_hA"
      },
      "source": [
        "#### Network hyperparameters"
      ]
    },
    {
      "cell_type": "code",
      "metadata": {
        "id": "UGCD7XRBO_A1"
      },
      "source": [
        "numInputs = labelIndex  # number of input features\n",
        "numOutputs = numClasses  # number of classes to be predicted\n",
        "numHiddenNodes = 5000  # too many features, so 5000 sounds good"
      ],
      "execution_count": null,
      "outputs": []
    },
    {
      "cell_type": "markdown",
      "metadata": {
        "id": "BoU2rSLDWljB"
      },
      "source": [
        "## RNN"
      ]
    },
    {
      "cell_type": "code",
      "metadata": {
        "id": "iOAuv2YbWnpu"
      },
      "source": [
        "class RNN(nn.Module):\n",
        "    def __init__(self, input_size, hidden_size, output_size):\n",
        "        super(RNN, self).__init__()\n",
        "\n",
        "        self.hidden_size = hidden_size\n",
        "\n",
        "        self.layer0 = nn.LSTM(numInputs, numHiddenNodes)\n",
        "        self.layer1 = nn.LSTM(numHiddenNodes, numHiddenNodes)\n",
        "        self.layer2 = nn.LSTM(numHiddenNodes, numHiddenNodes)\n",
        "        self.layer3 = nn.LogSoftmax(dim=1)\n",
        "\n",
        "        self.i2h = nn.Linear(input_size + hidden_size, hidden_size)\n",
        "        self.i2o = nn.Linear(input_size + hidden_size, output_size)\n",
        "        self.softmax = nn.LogSoftmax(dim=1)\n",
        "\n",
        "    def forward(self, input):\n",
        "        return self.layer3(self.layer2(self.layer1(self.layer0(input))))\n",
        "\n",
        "\n"
      ],
      "execution_count": null,
      "outputs": []
    }
  ]
}